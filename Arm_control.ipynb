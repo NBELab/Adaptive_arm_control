{
 "cells": [
  {
   "cell_type": "code",
   "execution_count": null,
   "metadata": {
    "scrolled": false,
    "tags": []
   },
   "outputs": [],
   "source": [
    "from arm import Model, Simulation\n",
    "import numpy as np\n",
    "\n",
    "BASE_DIR = 'C:\\\\Users\\\\estis\\\\Adaptive_arm_control\\\\'\n",
    "  \n",
    "model_name  = 'NBEL'\n",
    "model = Model(BASE_DIR + 'arm_models\\{}\\{}.xml'.format(model_name, model_name))\n",
    "\n",
    "init_angles = {0: -np.pi/2, 1:0, 2:np.pi/2, 3:0, 4:np.pi/2, 5:0}\n",
    "target      = [np.array([ 0.20 , 0.10,-0.10]), \n",
    "               np.array([ 0.20 , 0.10, 0.10]), \n",
    "               np.array([-0.20 , 0.10,-0.10]), \n",
    "               np.array([-0.20 , 0.10, 0.10]),\n",
    "               np.array([ 0.20 ,-0.30,-0.10]), \n",
    "               np.array([ 0.20 ,-0.30, 0.10]),  \n",
    "               np.array([-0.20 ,-0.30,-0.10]), \n",
    "               np.array([-0.20 ,-0.30, 0.10])]"
   ]
  },
  {
   "cell_type": "code",
   "execution_count": null,
   "metadata": {
    "scrolled": true,
    "tags": []
   },
   "outputs": [],
   "source": [
    "simulation_null = Simulation(model, init_angles, external_force=None,\n",
    "                             target=target, adapt=False)\n",
    "simulation_null.simulate()"
   ]
  },
  {
   "cell_type": "code",
   "execution_count": null,
   "metadata": {
    "scrolled": true,
    "tags": []
   },
   "outputs": [],
   "source": [
    "simulation_ext = Simulation(model, init_angles, external_force=1.5,\n",
    "                            target=target, adapt=False)\n",
    "simulation_ext.simulate(3500)"
   ]
  },
  {
   "cell_type": "code",
   "execution_count": null,
   "metadata": {
    "scrolled": true,
    "tags": []
   },
   "outputs": [],
   "source": [
    "simulation_ext_adapt = Simulation(model, init_angles, external_force=1.5,\n",
    "                                  target=target, adapt=True)\n",
    "simulation_ext_adapt.simulate()"
   ]
  },
  {
   "cell_type": "code",
   "execution_count": null,
   "metadata": {},
   "outputs": [],
   "source": []
  }
 ],
 "metadata": {
  "kernelspec": {
   "display_name": "Python 3",
   "language": "python",
   "name": "python3"
  },
  "language_info": {
   "codemirror_mode": {
    "name": "ipython",
    "version": 3
   },
   "file_extension": ".py",
   "mimetype": "text/x-python",
   "name": "python",
   "nbconvert_exporter": "python",
   "pygments_lexer": "ipython3",
   "version": "3.7.6-final"
  }
 },
 "nbformat": 4,
 "nbformat_minor": 4
}