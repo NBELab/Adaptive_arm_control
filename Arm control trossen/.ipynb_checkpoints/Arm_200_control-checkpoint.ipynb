{
 "cells": [
  {
   "cell_type": "code",
   "execution_count": 1,
   "metadata": {},
   "outputs": [],
   "source": [
    "from RoboticArm import *"
   ]
  },
  {
   "cell_type": "code",
   "execution_count": null,
   "metadata": {},
   "outputs": [],
   "source": [
    "Robot = {'Real':{\n",
    "            'CMD':\n",
    "                {'Baud Rate'        : {'Address': 8, 'Value': {9600   : 0,\n",
    "                                                               57600  : 1,\n",
    "                                                               115200 : 2,\n",
    "                                                               1000000: 3,\n",
    "                                                               2000000: 4,\n",
    "                                                               3000000: 5,\n",
    "                                                               4000000: 6,\n",
    "                                                               4500000: 7}}, \n",
    "                 'Operating mode'   : {'Address': 11, 'Value': {'Torque'   : 0,\n",
    "                                                                'Velocity' : 1,\n",
    "                                                                'Position' : 3,\n",
    "                                                                'PWM'      : 16}},\n",
    "                 'Torque Enable'    : {'Address': 64, 'Value': {'OFF': 0, 'ON' : 1}},                           \n",
    "                 'LED'              : {'Address': 65, 'Value': {'OFF': 0, 'ON' : 1}},                                  \n",
    "                 'Goal Position'    : {'Address': 116},                         \n",
    "                 'Present Position' : {'Address': 132}, \n",
    "                 'Goal torque'      : {'Address': 102},\n",
    "                 'Ranges'           : {1: range (0,   280),\n",
    "                                       2: range (75,  280),\n",
    "                                       3: range (80,  285),\n",
    "                                       4: range (85,  285),\n",
    "                                       5: range (55,  280),\n",
    "                                       6: range (0,   340),\n",
    "                                       7: range (132, 238)},\n",
    "                 'Limit velocity'   : {'Address': 100, 'Value': 600}, # ranging [-885, 885]\n",
    "                 'Limit torque'     : {'Address': 38,  'Value': 250} # ranging [-1193, 1193], 2.69mA per step, 3.210A\n",
    "                },\n",
    "             'Priority': [[4], [2, 3], [1], [5], [6], [7]],\n",
    "             'Home'    : {1: 180, 2: 135, 3: 360-135, 4: 180, 5: 135, 6: 180, 7:180}}\n",
    "        }"
   ]
  },
  {
   "cell_type": "code",
   "execution_count": null,
   "metadata": {
    "scrolled": true
   },
   "outputs": [],
   "source": [
    "arm = RoboticArm(Robot, COM_ID = '/dev/tty.usbmodem142101') # Mac. Search port name using: \"ls /dev/tty.*\"\n",
    "# arm = RoboticArm(Robot, COM_ID = 'COM5') # Windows"
   ]
  },
  {
   "cell_type": "code",
   "execution_count": null,
   "metadata": {
    "scrolled": true
   },
   "outputs": [],
   "source": [
    "arm.go_home()"
   ]
  },
  {
   "cell_type": "code",
   "execution_count": null,
   "metadata": {},
   "outputs": [],
   "source": [
    "s = [{1: 180, 2: 135, 3: 360-135, 4: 180, 5: 135, 6: 180, 7:135},\n",
    "     {1: 180, 2: 135, 3: 360-135, 4: 180, 5: 135, 6: 180, 7:235},\n",
    "     {1: 180, 2: 135, 3: 360-135, 4: 180, 5: 135, 6: 180, 7:180},\n",
    "     {1: 180, 2: 135, 3: 360-135, 4: 180, 5: 135, 6: 5  , 7:180},\n",
    "     {1: 180, 2: 135, 3: 360-135, 4: 180, 5: 135, 6: 335, 7:180},\n",
    "     {1: 180, 2: 135, 3: 360-135, 4: 180, 5: 60 , 6: 180, 7:180},\n",
    "     {1: 180, 2: 135, 3: 360-135, 4: 140, 5: 260, 6: 180, 7:180},\n",
    "     {1: 180, 2: 135, 3: 360-135, 4: 140, 5: 180, 6: 180, 7:180},\n",
    "     {1: 180, 2: 135, 3: 360-135, 4: 140, 5: 180, 6: 180, 7:135},\n",
    "     {1: 180, 2: 135, 3: 360-135, 4: 140, 5: 180, 6: 5  , 7:180},\n",
    "     {1: 180, 2: 135, 3: 360-135, 4: 140, 5: 180, 6: 335, 7:180},\n",
    "     {1: 180, 2: 135, 3: 360-135, 4: 180, 5: 135, 6: 180, 7:135},\n",
    "     {1: 160, 2: 135, 3: 360-135, 4: 180, 5: 135, 6: 5  , 7:180},\n",
    "     {1: 140, 2: 135, 3: 360-135, 4: 180, 5: 135, 6: 335, 7:135},\n",
    "     {1: 180, 2: 135, 3: 360-135, 4: 180, 5: 135, 6: 60 , 7:235},\n",
    "     {1: 180, 2: 135, 3: 360-135, 4: 180, 5: 135, 6: 180, 7:180}]\n",
    "arm.play(s, 0.2, mode='position')"
   ]
  },
  {
   "cell_type": "code",
   "execution_count": null,
   "metadata": {
    "scrolled": false
   },
   "outputs": [],
   "source": [
    "s = [{5: 10}, {5: 20}, {5: 30}, {5: 40}, {5: 50}, \n",
    "     {5: 40}, {5: 30}, {5: 20}, {5: 10}, {5: 0}]\n",
    "arm.play(s, 3, mode='torque')"
   ]
  },
  {
   "cell_type": "code",
   "execution_count": null,
   "metadata": {},
   "outputs": [],
   "source": [
    "arm.destruct()"
   ]
  },
  {
   "cell_type": "code",
   "execution_count": null,
   "metadata": {},
   "outputs": [],
   "source": [
    "%debug"
   ]
  },
  {
   "cell_type": "code",
   "execution_count": null,
   "metadata": {},
   "outputs": [],
   "source": [
    "arm.send_full_cmd(5, 102, 10)\n",
    "                "
   ]
  },
  {
   "cell_type": "code",
   "execution_count": null,
   "metadata": {},
   "outputs": [],
   "source": [
    "arm.send_half_cmd(5, 102, 0)"
   ]
  },
  {
   "cell_type": "code",
   "execution_count": null,
   "metadata": {},
   "outputs": [],
   "source": []
  }
 ],
 "metadata": {
  "kernelspec": {
   "display_name": "Python 3",
   "language": "python",
   "name": "python3"
  },
  "language_info": {
   "codemirror_mode": {
    "name": "ipython",
    "version": 3
   },
   "file_extension": ".py",
   "mimetype": "text/x-python",
   "name": "python",
   "nbconvert_exporter": "python",
   "pygments_lexer": "ipython3",
   "version": "3.7.6"
  }
 },
 "nbformat": 4,
 "nbformat_minor": 2
}
